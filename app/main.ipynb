{
 "cells": [
  {
   "cell_type": "code",
   "execution_count": 1,
   "metadata": {},
   "outputs": [],
   "source": [
    "from selenium import webdriver\n",
    "from webdriver_manager.chrome import ChromeDriverManager\n",
    "from decouple import config\n",
    "\n",
    "from login import login\n",
    "driver = webdriver.Chrome(ChromeDriverManager().install())"
   ]
  },
  {
   "cell_type": "code",
   "execution_count": 2,
   "metadata": {},
   "outputs": [],
   "source": [
    "# Get environment variables\n",
    "USERNAME = config('USERNAME')\n",
    "PASSWORD = config('PASSWORD')\n",
    "\n",
    "# Login URL\n",
    "LOGIN_URL = \"https://twitter.com/i/flow/login\""
   ]
  },
  {
   "cell_type": "code",
   "execution_count": 3,
   "metadata": {},
   "outputs": [],
   "source": [
    "# Login\n",
    "login(driver, USERNAME, PASSWORD, LOGIN_URL)\n"
   ]
  }
 ],
 "metadata": {
  "kernelspec": {
   "display_name": "webScrapping",
   "language": "python",
   "name": "python3"
  },
  "language_info": {
   "codemirror_mode": {
    "name": "ipython",
    "version": 3
   },
   "file_extension": ".py",
   "mimetype": "text/x-python",
   "name": "python",
   "nbconvert_exporter": "python",
   "pygments_lexer": "ipython3",
   "version": "3.10.8"
  },
  "orig_nbformat": 4,
  "vscode": {
   "interpreter": {
    "hash": "0d1aa1b48985c4a69c74a29969a359a27a1ce84f5ebf5df4aae4b7474f41db38"
   }
  }
 },
 "nbformat": 4,
 "nbformat_minor": 2
}
